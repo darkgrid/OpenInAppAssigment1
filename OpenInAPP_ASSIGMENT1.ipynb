{
  "nbformat": 4,
  "nbformat_minor": 0,
  "metadata": {
    "colab": {
      "provenance": []
    },
    "kernelspec": {
      "name": "python3",
      "display_name": "Python 3"
    },
    "accelerator": "GPU"
  },
  "cells": [
    {
      "cell_type": "markdown",
      "metadata": {
        "id": "vSQFs_G8caeE"
      },
      "source": [
        "# Collab preliminaries"
      ]
    },
    {
      "cell_type": "code",
      "metadata": {
        "id": "XIVB0Xn1g6ih",
        "colab": {
          "base_uri": "https://localhost:8080/"
        },
        "outputId": "8f23d96c-342b-4f23-89fe-bf1cf7e52cfb"
      },
      "source": [
        "!nvcc --version"
      ],
      "execution_count": 1,
      "outputs": [
        {
          "output_type": "stream",
          "name": "stdout",
          "text": [
            "nvcc: NVIDIA (R) Cuda compiler driver\n",
            "Copyright (c) 2005-2022 NVIDIA Corporation\n",
            "Built on Wed_Sep_21_10:33:58_PDT_2022\n",
            "Cuda compilation tools, release 11.8, V11.8.89\n",
            "Build cuda_11.8.r11.8/compiler.31833905_0\n"
          ]
        }
      ]
    },
    {
      "cell_type": "code",
      "metadata": {
        "id": "qciH4PsUazL_",
        "colab": {
          "base_uri": "https://localhost:8080/"
        },
        "outputId": "b2330e46-db0c-4441-a1e1-33258bf3a976"
      },
      "source": [
        "from google.colab import drive\n",
        "drive.mount('/content/gdrive')"
      ],
      "execution_count": 2,
      "outputs": [
        {
          "output_type": "stream",
          "name": "stdout",
          "text": [
            "Mounted at /content/gdrive\n"
          ]
        }
      ]
    },
    {
      "cell_type": "markdown",
      "metadata": {
        "id": "yJ5taGmPcWV-"
      },
      "source": [
        "# Get the code and models"
      ]
    },
    {
      "cell_type": "code",
      "metadata": {
        "id": "P3LihClHbUd3",
        "colab": {
          "base_uri": "https://localhost:8080/"
        },
        "outputId": "50cccc4a-606c-45f7-94d7-230f657f711e"
      },
      "source": [
        "!git clone https://github.com/Rudrabha/Wav2Lip.git"
      ],
      "execution_count": 3,
      "outputs": [
        {
          "output_type": "stream",
          "name": "stdout",
          "text": [
            "Cloning into 'Wav2Lip'...\n",
            "remote: Enumerating objects: 363, done.\u001b[K\n",
            "remote: Counting objects: 100% (3/3), done.\u001b[K\n",
            "remote: Compressing objects: 100% (3/3), done.\u001b[K\n",
            "remote: Total 363 (delta 0), reused 1 (delta 0), pack-reused 360\u001b[K\n",
            "Receiving objects: 100% (363/363), 528.20 KiB | 2.10 MiB/s, done.\n",
            "Resolving deltas: 100% (198/198), done.\n"
          ]
        }
      ]
    },
    {
      "cell_type": "code",
      "metadata": {
        "id": "y-19nzx8SamJ",
        "colab": {
          "base_uri": "https://localhost:8080/"
        },
        "outputId": "e1964127-bc80-4d28-dd36-5e9adc153bf7"
      },
      "source": [
        "!ls /content/gdrive/MyDrive/Wav2Lip"
      ],
      "execution_count": 4,
      "outputs": [
        {
          "output_type": "stream",
          "name": "stdout",
          "text": [
            "input_audio.wav  input_video.mp4  wav2lip_gan.pth  wav2lip.pth\n"
          ]
        }
      ]
    },
    {
      "cell_type": "code",
      "metadata": {
        "id": "YjzMPy_Sb0AI"
      },
      "source": [
        "!cp -ri \"/content/gdrive/MyDrive/Wav2Lip/wav2lip_gan.pth\" /content/Wav2Lip/checkpoints/"
      ],
      "execution_count": 5,
      "outputs": []
    },
    {
      "cell_type": "markdown",
      "metadata": {
        "id": "aWTaOS3ncFt6"
      },
      "source": [
        "# Get the pre-requisites"
      ]
    },
    {
      "cell_type": "code",
      "metadata": {
        "id": "Ooh28vw-Uvd3",
        "colab": {
          "base_uri": "https://localhost:8080/"
        },
        "outputId": "feb5af5a-46b3-4de3-a334-866df0e761b2"
      },
      "source": [
        "!pip uninstall tensorflow tensorflow-gpu"
      ],
      "execution_count": 6,
      "outputs": [
        {
          "output_type": "stream",
          "name": "stdout",
          "text": [
            "Found existing installation: tensorflow 2.13.0\n",
            "Uninstalling tensorflow-2.13.0:\n",
            "  Would remove:\n",
            "    /usr/local/bin/estimator_ckpt_converter\n",
            "    /usr/local/bin/import_pb_to_tensorboard\n",
            "    /usr/local/bin/saved_model_cli\n",
            "    /usr/local/bin/tensorboard\n",
            "    /usr/local/bin/tf_upgrade_v2\n",
            "    /usr/local/bin/tflite_convert\n",
            "    /usr/local/bin/toco\n",
            "    /usr/local/bin/toco_from_protos\n",
            "    /usr/local/lib/python3.10/dist-packages/tensorflow-2.13.0.dist-info/*\n",
            "    /usr/local/lib/python3.10/dist-packages/tensorflow/*\n",
            "Proceed (Y/n)? Y\n",
            "  Successfully uninstalled tensorflow-2.13.0\n",
            "\u001b[33mWARNING: Skipping tensorflow-gpu as it is not installed.\u001b[0m\u001b[33m\n",
            "\u001b[0m"
          ]
        }
      ]
    },
    {
      "cell_type": "code",
      "metadata": {
        "id": "49dCYlLdcK2D",
        "colab": {
          "base_uri": "https://localhost:8080/"
        },
        "outputId": "a2d4a8d0-5217-4aab-841c-9437e8ed2664"
      },
      "source": [
        "!cd Wav2Lip && pip install -r requirements.txt"
      ],
      "execution_count": 11,
      "outputs": [
        {
          "output_type": "stream",
          "name": "stdout",
          "text": [
            "Collecting librosa==0.8.0 (from -r requirements.txt (line 1))\n",
            "  Downloading librosa-0.8.0.tar.gz (183 kB)\n",
            "\u001b[2K     \u001b[90m━━━━━━━━━━━━━━━━━━━━━━━━━━━━━━━━━━━━━━━\u001b[0m \u001b[32m183.9/183.9 kB\u001b[0m \u001b[31m2.5 MB/s\u001b[0m eta \u001b[36m0:00:00\u001b[0m\n",
            "\u001b[?25h  Preparing metadata (setup.py) ... \u001b[?25l\u001b[?25hdone\n",
            "Requirement already satisfied: numpy>=1.17.1 in /usr/local/lib/python3.10/dist-packages (from -r requirements.txt (line 2)) (1.23.5)\n",
            "Requirement already satisfied: opencv-contrib-python>=4.2.0.34 in /usr/local/lib/python3.10/dist-packages (from -r requirements.txt (line 3)) (4.8.0.76)\n",
            "Requirement already satisfied: opencv-python>=4.1.0.25 in /usr/local/lib/python3.10/dist-packages (from -r requirements.txt (line 4)) (4.8.0.76)\n",
            "Requirement already satisfied: torch>=1.1.0 in /usr/local/lib/python3.10/dist-packages (from -r requirements.txt (line 5)) (2.0.1+cu118)\n",
            "Requirement already satisfied: torchvision>=0.3.0 in /usr/local/lib/python3.10/dist-packages (from -r requirements.txt (line 6)) (0.15.2+cu118)\n",
            "Requirement already satisfied: tqdm>=4.45.0 in /usr/local/lib/python3.10/dist-packages (from -r requirements.txt (line 7)) (4.66.1)\n",
            "Requirement already satisfied: numba>=0.48 in /usr/local/lib/python3.10/dist-packages (from -r requirements.txt (line 8)) (0.56.4)\n",
            "Requirement already satisfied: audioread>=2.0.0 in /usr/local/lib/python3.10/dist-packages (from librosa==0.8.0->-r requirements.txt (line 1)) (3.0.1)\n",
            "Requirement already satisfied: scipy>=1.0.0 in /usr/local/lib/python3.10/dist-packages (from librosa==0.8.0->-r requirements.txt (line 1)) (1.11.3)\n",
            "Requirement already satisfied: scikit-learn!=0.19.0,>=0.14.0 in /usr/local/lib/python3.10/dist-packages (from librosa==0.8.0->-r requirements.txt (line 1)) (1.2.2)\n",
            "Requirement already satisfied: joblib>=0.14 in /usr/local/lib/python3.10/dist-packages (from librosa==0.8.0->-r requirements.txt (line 1)) (1.3.2)\n",
            "Requirement already satisfied: decorator>=3.0.0 in /usr/local/lib/python3.10/dist-packages (from librosa==0.8.0->-r requirements.txt (line 1)) (4.4.2)\n",
            "Collecting resampy>=0.2.2 (from librosa==0.8.0->-r requirements.txt (line 1))\n",
            "  Downloading resampy-0.4.2-py3-none-any.whl (3.1 MB)\n",
            "\u001b[2K     \u001b[90m━━━━━━━━━━━━━━━━━━━━━━━━━━━━━━━━━━━━━━━━\u001b[0m \u001b[32m3.1/3.1 MB\u001b[0m \u001b[31m64.2 MB/s\u001b[0m eta \u001b[36m0:00:00\u001b[0m\n",
            "\u001b[?25hRequirement already satisfied: soundfile>=0.9.0 in /usr/local/lib/python3.10/dist-packages (from librosa==0.8.0->-r requirements.txt (line 1)) (0.12.1)\n",
            "Requirement already satisfied: pooch>=1.0 in /usr/local/lib/python3.10/dist-packages (from librosa==0.8.0->-r requirements.txt (line 1)) (1.7.0)\n",
            "Requirement already satisfied: filelock in /usr/local/lib/python3.10/dist-packages (from torch>=1.1.0->-r requirements.txt (line 5)) (3.12.4)\n",
            "Requirement already satisfied: typing-extensions in /usr/local/lib/python3.10/dist-packages (from torch>=1.1.0->-r requirements.txt (line 5)) (4.5.0)\n",
            "Requirement already satisfied: sympy in /usr/local/lib/python3.10/dist-packages (from torch>=1.1.0->-r requirements.txt (line 5)) (1.12)\n",
            "Requirement already satisfied: networkx in /usr/local/lib/python3.10/dist-packages (from torch>=1.1.0->-r requirements.txt (line 5)) (3.1)\n",
            "Requirement already satisfied: jinja2 in /usr/local/lib/python3.10/dist-packages (from torch>=1.1.0->-r requirements.txt (line 5)) (3.1.2)\n",
            "Requirement already satisfied: triton==2.0.0 in /usr/local/lib/python3.10/dist-packages (from torch>=1.1.0->-r requirements.txt (line 5)) (2.0.0)\n",
            "Requirement already satisfied: cmake in /usr/local/lib/python3.10/dist-packages (from triton==2.0.0->torch>=1.1.0->-r requirements.txt (line 5)) (3.27.6)\n",
            "Requirement already satisfied: lit in /usr/local/lib/python3.10/dist-packages (from triton==2.0.0->torch>=1.1.0->-r requirements.txt (line 5)) (17.0.2)\n",
            "Requirement already satisfied: requests in /usr/local/lib/python3.10/dist-packages (from torchvision>=0.3.0->-r requirements.txt (line 6)) (2.31.0)\n",
            "Requirement already satisfied: pillow!=8.3.*,>=5.3.0 in /usr/local/lib/python3.10/dist-packages (from torchvision>=0.3.0->-r requirements.txt (line 6)) (9.4.0)\n",
            "Requirement already satisfied: llvmlite<0.40,>=0.39.0dev0 in /usr/local/lib/python3.10/dist-packages (from numba>=0.48->-r requirements.txt (line 8)) (0.39.1)\n",
            "Requirement already satisfied: setuptools in /usr/local/lib/python3.10/dist-packages (from numba>=0.48->-r requirements.txt (line 8)) (67.7.2)\n",
            "Requirement already satisfied: platformdirs>=2.5.0 in /usr/local/lib/python3.10/dist-packages (from pooch>=1.0->librosa==0.8.0->-r requirements.txt (line 1)) (3.11.0)\n",
            "Requirement already satisfied: packaging>=20.0 in /usr/local/lib/python3.10/dist-packages (from pooch>=1.0->librosa==0.8.0->-r requirements.txt (line 1)) (23.2)\n",
            "Requirement already satisfied: charset-normalizer<4,>=2 in /usr/local/lib/python3.10/dist-packages (from requests->torchvision>=0.3.0->-r requirements.txt (line 6)) (3.3.0)\n",
            "Requirement already satisfied: idna<4,>=2.5 in /usr/local/lib/python3.10/dist-packages (from requests->torchvision>=0.3.0->-r requirements.txt (line 6)) (3.4)\n",
            "Requirement already satisfied: urllib3<3,>=1.21.1 in /usr/local/lib/python3.10/dist-packages (from requests->torchvision>=0.3.0->-r requirements.txt (line 6)) (2.0.6)\n",
            "Requirement already satisfied: certifi>=2017.4.17 in /usr/local/lib/python3.10/dist-packages (from requests->torchvision>=0.3.0->-r requirements.txt (line 6)) (2023.7.22)\n",
            "Requirement already satisfied: threadpoolctl>=2.0.0 in /usr/local/lib/python3.10/dist-packages (from scikit-learn!=0.19.0,>=0.14.0->librosa==0.8.0->-r requirements.txt (line 1)) (3.2.0)\n",
            "Requirement already satisfied: cffi>=1.0 in /usr/local/lib/python3.10/dist-packages (from soundfile>=0.9.0->librosa==0.8.0->-r requirements.txt (line 1)) (1.16.0)\n",
            "Requirement already satisfied: MarkupSafe>=2.0 in /usr/local/lib/python3.10/dist-packages (from jinja2->torch>=1.1.0->-r requirements.txt (line 5)) (2.1.3)\n",
            "Requirement already satisfied: mpmath>=0.19 in /usr/local/lib/python3.10/dist-packages (from sympy->torch>=1.1.0->-r requirements.txt (line 5)) (1.3.0)\n",
            "Requirement already satisfied: pycparser in /usr/local/lib/python3.10/dist-packages (from cffi>=1.0->soundfile>=0.9.0->librosa==0.8.0->-r requirements.txt (line 1)) (2.21)\n",
            "Building wheels for collected packages: librosa\n",
            "  Building wheel for librosa (setup.py) ... \u001b[?25l\u001b[?25hdone\n",
            "  Created wheel for librosa: filename=librosa-0.8.0-py3-none-any.whl size=201367 sha256=f0ade236883e5f884897c34813d565a2a331f32a53bd3d09f6a199e032eb47eb\n",
            "  Stored in directory: /root/.cache/pip/wheels/bf/b7/85/2f8044306ccec014930aea23ad4852fca9e2584e21c6972bc6\n",
            "Successfully built librosa\n",
            "Installing collected packages: resampy, librosa\n",
            "  Attempting uninstall: librosa\n",
            "    Found existing installation: librosa 0.10.1\n",
            "    Uninstalling librosa-0.10.1:\n",
            "      Successfully uninstalled librosa-0.10.1\n",
            "Successfully installed librosa-0.8.0 resampy-0.4.2\n"
          ]
        }
      ]
    },
    {
      "cell_type": "code",
      "metadata": {
        "id": "ey_bN4M6X_95",
        "colab": {
          "base_uri": "https://localhost:8080/"
        },
        "outputId": "fcaaf998-e2d5-4ba4-b94f-319ff00903ba"
      },
      "source": [
        "!wget \"https://www.adrianbulat.com/downloads/python-fan/s3fd-619a316812.pth\" -O \"Wav2Lip/face_detection/detection/sfd/s3fd.pth\""
      ],
      "execution_count": 12,
      "outputs": [
        {
          "output_type": "stream",
          "name": "stdout",
          "text": [
            "--2023-10-13 16:11:26--  https://www.adrianbulat.com/downloads/python-fan/s3fd-619a316812.pth\n",
            "Resolving www.adrianbulat.com (www.adrianbulat.com)... 45.136.29.207\n",
            "Connecting to www.adrianbulat.com (www.adrianbulat.com)|45.136.29.207|:443... connected.\n",
            "HTTP request sent, awaiting response... 200 OK\n",
            "Length: 89843225 (86M) [application/octet-stream]\n",
            "Saving to: ‘Wav2Lip/face_detection/detection/sfd/s3fd.pth’\n",
            "\n",
            "Wav2Lip/face_detect 100%[===================>]  85.68M  20.8MB/s    in 5.2s    \n",
            "\n",
            "2023-10-13 16:11:32 (16.5 MB/s) - ‘Wav2Lip/face_detection/detection/sfd/s3fd.pth’ saved [89843225/89843225]\n",
            "\n"
          ]
        }
      ]
    },
    {
      "cell_type": "markdown",
      "metadata": {
        "id": "qdIQfY2Kswcb"
      },
      "source": [
        "# Now lets try!"
      ]
    },
    {
      "cell_type": "code",
      "metadata": {
        "id": "KoVGMtjRZfeR",
        "colab": {
          "base_uri": "https://localhost:8080/"
        },
        "outputId": "289924bd-af98-473b-894f-95d2470a6b6a"
      },
      "source": [
        "!cp \"/content/gdrive/My Drive/Wav2Lip/input_video.mp4\" \"/content/gdrive/My Drive/Wav2Lip/input_audio.wav\" sample_data/\n",
        "!ls sample_data/"
      ],
      "execution_count": 13,
      "outputs": [
        {
          "output_type": "stream",
          "name": "stdout",
          "text": [
            "anscombe.json\t\t      input_audio.wav  mnist_train_small.csv\n",
            "california_housing_test.csv   input_video.mp4  README.md\n",
            "california_housing_train.csv  mnist_test.csv\n"
          ]
        }
      ]
    },
    {
      "cell_type": "code",
      "metadata": {
        "id": "jR5utmDMcSZY",
        "colab": {
          "base_uri": "https://localhost:8080/"
        },
        "outputId": "9b42e576-9c69-4ce6-d82d-69241eb5e2b4"
      },
      "source": [
        "!cd Wav2Lip && python inference.py --checkpoint_path checkpoints/wav2lip_gan.pth --face \"../sample_data/input_video.mp4\" --audio \"../sample_data/input_audio.wav\" --nosmooth --pads 0 20 0 0"
      ],
      "execution_count": 15,
      "outputs": [
        {
          "output_type": "stream",
          "name": "stdout",
          "text": [
            "Using cuda for inference.\n",
            "Reading video frames...\n",
            "Number of frames available for inference: 269\n",
            "(80, 5386)\n",
            "Length of mel chunks: 2016\n",
            "  0% 0/16 [00:00<?, ?it/s]\n",
            "  0% 0/17 [00:00<?, ?it/s]\u001b[A\n",
            "  6% 1/17 [00:17<04:32, 17.05s/it]\u001b[A\n",
            " 12% 2/17 [00:18<01:56,  7.74s/it]\u001b[A\n",
            " 18% 3/17 [00:19<01:08,  4.87s/it]\u001b[A\n",
            " 24% 4/17 [00:21<00:45,  3.50s/it]\u001b[A\n",
            " 29% 5/17 [00:22<00:32,  2.73s/it]\u001b[A\n",
            " 35% 6/17 [00:23<00:24,  2.25s/it]\u001b[A\n",
            " 41% 7/17 [00:24<00:18,  1.90s/it]\u001b[A\n",
            " 47% 8/17 [00:26<00:15,  1.67s/it]\u001b[A\n",
            " 53% 9/17 [00:27<00:12,  1.52s/it]\u001b[A\n",
            " 59% 10/17 [00:28<00:09,  1.41s/it]\u001b[A\n",
            " 65% 11/17 [00:29<00:08,  1.35s/it]\u001b[A\n",
            " 71% 12/17 [00:30<00:06,  1.30s/it]\u001b[A\n",
            " 76% 13/17 [00:32<00:05,  1.28s/it]\u001b[A\n",
            " 82% 14/17 [00:33<00:03,  1.29s/it]\u001b[A\n",
            " 88% 15/17 [00:34<00:02,  1.33s/it]\u001b[A\n",
            " 94% 16/17 [00:36<00:01,  1.37s/it]\u001b[A\n",
            "100% 17/17 [00:49<00:00,  2.92s/it]\n",
            "Load checkpoint from: checkpoints/wav2lip_gan.pth\n",
            "Model loaded\n",
            "100% 16/16 [01:18<00:00,  4.92s/it]\n",
            "ffmpeg version 4.4.2-0ubuntu0.22.04.1 Copyright (c) 2000-2021 the FFmpeg developers\n",
            "  built with gcc 11 (Ubuntu 11.2.0-19ubuntu1)\n",
            "  configuration: --prefix=/usr --extra-version=0ubuntu0.22.04.1 --toolchain=hardened --libdir=/usr/lib/x86_64-linux-gnu --incdir=/usr/include/x86_64-linux-gnu --arch=amd64 --enable-gpl --disable-stripping --enable-gnutls --enable-ladspa --enable-libaom --enable-libass --enable-libbluray --enable-libbs2b --enable-libcaca --enable-libcdio --enable-libcodec2 --enable-libdav1d --enable-libflite --enable-libfontconfig --enable-libfreetype --enable-libfribidi --enable-libgme --enable-libgsm --enable-libjack --enable-libmp3lame --enable-libmysofa --enable-libopenjpeg --enable-libopenmpt --enable-libopus --enable-libpulse --enable-librabbitmq --enable-librubberband --enable-libshine --enable-libsnappy --enable-libsoxr --enable-libspeex --enable-libsrt --enable-libssh --enable-libtheora --enable-libtwolame --enable-libvidstab --enable-libvorbis --enable-libvpx --enable-libwebp --enable-libx265 --enable-libxml2 --enable-libxvid --enable-libzimg --enable-libzmq --enable-libzvbi --enable-lv2 --enable-omx --enable-openal --enable-opencl --enable-opengl --enable-sdl2 --enable-pocketsphinx --enable-librsvg --enable-libmfx --enable-libdc1394 --enable-libdrm --enable-libiec61883 --enable-chromaprint --enable-frei0r --enable-libx264 --enable-shared\n",
            "  libavutil      56. 70.100 / 56. 70.100\n",
            "  libavcodec     58.134.100 / 58.134.100\n",
            "  libavformat    58. 76.100 / 58. 76.100\n",
            "  libavdevice    58. 13.100 / 58. 13.100\n",
            "  libavfilter     7.110.100 /  7.110.100\n",
            "  libswscale      5.  9.100 /  5.  9.100\n",
            "  libswresample   3.  9.100 /  3.  9.100\n",
            "  libpostproc    55.  9.100 / 55.  9.100\n",
            "\u001b[0;35m[mp3 @ 0x5a7c87d9f2c0] \u001b[0m\u001b[0;33mEstimating duration from bitrate, this may be inaccurate\n",
            "\u001b[0mInput #0, mp3, from '../sample_data/input_audio.wav':\n",
            "  Duration: 00:01:07.32, start: 0.000000, bitrate: 96 kb/s\n",
            "  Stream #0:0: Audio: mp3, 44100 Hz, mono, fltp, 96 kb/s\n",
            "Input #1, avi, from 'temp/result.avi':\n",
            "  Metadata:\n",
            "    software        : Lavf59.27.100\n",
            "  Duration: 00:01:07.20, start: 0.000000, bitrate: 1775 kb/s\n",
            "  Stream #1:0: Video: mpeg4 (Simple Profile) (DIVX / 0x58564944), yuv420p, 848x432 [SAR 1:1 DAR 53:27], 1770 kb/s, 30 fps, 30 tbr, 30 tbn, 30 tbc\n",
            "Stream mapping:\n",
            "  Stream #1:0 -> #0:0 (mpeg4 (native) -> h264 (libx264))\n",
            "  Stream #0:0 -> #0:1 (mp3 (mp3float) -> aac (native))\n",
            "Press [q] to stop, [?] for help\n",
            "\u001b[1;36m[libx264 @ 0x5a7c87de2540] \u001b[0m\u001b[0;33m-qscale is ignored, -crf is recommended.\n",
            "\u001b[0m\u001b[1;36m[libx264 @ 0x5a7c87de2540] \u001b[0musing SAR=1/1\n",
            "\u001b[1;36m[libx264 @ 0x5a7c87de2540] \u001b[0musing cpu capabilities: MMX2 SSE2Fast SSSE3 SSE4.2 AVX FMA3 BMI2 AVX2 AVX512\n",
            "\u001b[1;36m[libx264 @ 0x5a7c87de2540] \u001b[0mprofile High, level 3.1, 4:2:0, 8-bit\n",
            "\u001b[1;36m[libx264 @ 0x5a7c87de2540] \u001b[0m264 - core 163 r3060 5db6aa6 - H.264/MPEG-4 AVC codec - Copyleft 2003-2021 - http://www.videolan.org/x264.html - options: cabac=1 ref=3 deblock=1:0:0 analyse=0x3:0x113 me=hex subme=7 psy=1 psy_rd=1.00:0.00 mixed_ref=1 me_range=16 chroma_me=1 trellis=1 8x8dct=1 cqm=0 deadzone=21,11 fast_pskip=1 chroma_qp_offset=-2 threads=3 lookahead_threads=1 sliced_threads=0 nr=0 decimate=1 interlaced=0 bluray_compat=0 constrained_intra=0 bframes=3 b_pyramid=2 b_adapt=1 b_bias=0 direct=1 weightb=1 open_gop=0 weightp=2 keyint=250 keyint_min=25 scenecut=40 intra_refresh=0 rc_lookahead=40 rc=crf mbtree=1 crf=23.0 qcomp=0.60 qpmin=0 qpmax=69 qpstep=4 ip_ratio=1.40 aq=1:1.00\n",
            "Output #0, mp4, to 'results/result_voice.mp4':\n",
            "  Metadata:\n",
            "    encoder         : Lavf58.76.100\n",
            "  Stream #0:0: Video: h264 (avc1 / 0x31637661), yuv420p(progressive), 848x432 [SAR 1:1 DAR 53:27], q=2-31, 30 fps, 15360 tbn\n",
            "    Metadata:\n",
            "      encoder         : Lavc58.134.100 libx264\n",
            "    Side data:\n",
            "      cpb: bitrate max/min/avg: 0/0/0 buffer size: 0 vbv_delay: N/A\n",
            "  Stream #0:1: Audio: aac (LC) (mp4a / 0x6134706D), 44100 Hz, mono, fltp, 69 kb/s\n",
            "    Metadata:\n",
            "      encoder         : Lavc58.134.100 aac\n",
            "frame= 2016 fps= 50 q=-1.0 Lsize=    6155kB time=00:01:07.31 bitrate= 749.0kbits/s speed=1.68x    \n",
            "video:5518kB audio:571kB subtitle:0kB other streams:0kB global headers:0kB muxing overhead: 1.087939%\n",
            "\u001b[1;36m[libx264 @ 0x5a7c87de2540] \u001b[0mframe I:10    Avg QP:17.74  size: 13590\n",
            "\u001b[1;36m[libx264 @ 0x5a7c87de2540] \u001b[0mframe P:1328  Avg QP:21.70  size:  3518\n",
            "\u001b[1;36m[libx264 @ 0x5a7c87de2540] \u001b[0mframe B:678   Avg QP:23.80  size:  1241\n",
            "\u001b[1;36m[libx264 @ 0x5a7c87de2540] \u001b[0mconsecutive B-frames: 48.2% 15.5% 16.5% 19.8%\n",
            "\u001b[1;36m[libx264 @ 0x5a7c87de2540] \u001b[0mmb I  I16..4: 30.2% 58.5% 11.3%\n",
            "\u001b[1;36m[libx264 @ 0x5a7c87de2540] \u001b[0mmb P  I16..4:  2.0%  7.0%  0.4%  P16..4: 22.8%  7.9%  3.9%  0.0%  0.0%    skip:56.1%\n",
            "\u001b[1;36m[libx264 @ 0x5a7c87de2540] \u001b[0mmb B  I16..4:  0.4%  1.6%  0.1%  B16..8: 28.3%  3.4%  0.5%  direct: 1.1%  skip:64.6%  L0:52.9% L1:41.0% BI: 6.1%\n",
            "\u001b[1;36m[libx264 @ 0x5a7c87de2540] \u001b[0m8x8 transform intra:74.0% inter:68.8%\n",
            "\u001b[1;36m[libx264 @ 0x5a7c87de2540] \u001b[0mcoded y,uvDC,uvAC intra: 26.8% 32.1% 4.7% inter: 8.0% 5.9% 0.0%\n",
            "\u001b[1;36m[libx264 @ 0x5a7c87de2540] \u001b[0mi16 v,h,dc,p: 46% 27% 20%  7%\n",
            "\u001b[1;36m[libx264 @ 0x5a7c87de2540] \u001b[0mi8 v,h,dc,ddl,ddr,vr,hd,vl,hu: 26% 16% 50%  2%  1%  1%  2%  1%  1%\n",
            "\u001b[1;36m[libx264 @ 0x5a7c87de2540] \u001b[0mi4 v,h,dc,ddl,ddr,vr,hd,vl,hu: 23% 36% 14%  3%  6%  5%  7%  4%  3%\n",
            "\u001b[1;36m[libx264 @ 0x5a7c87de2540] \u001b[0mi8c dc,h,v,p: 56% 20% 22%  2%\n",
            "\u001b[1;36m[libx264 @ 0x5a7c87de2540] \u001b[0mWeighted P-Frames: Y:1.1% UV:0.4%\n",
            "\u001b[1;36m[libx264 @ 0x5a7c87de2540] \u001b[0mref P L0: 74.5% 11.5% 10.2%  3.8%  0.1%\n",
            "\u001b[1;36m[libx264 @ 0x5a7c87de2540] \u001b[0mref B L0: 85.7% 11.7%  2.6%\n",
            "\u001b[1;36m[libx264 @ 0x5a7c87de2540] \u001b[0mref B L1: 98.1%  1.9%\n",
            "\u001b[1;36m[libx264 @ 0x5a7c87de2540] \u001b[0mkb/s:672.55\n",
            "\u001b[1;36m[aac @ 0x5a7c87de3ec0] \u001b[0mQavg: 158.533\n"
          ]
        }
      ]
    },
    {
      "cell_type": "code",
      "metadata": {
        "id": "uNOAZvkszEOw"
      },
      "source": [
        "# use the \"files\" button on the left to download the result in the Wav2Lip/results/ folder."
      ],
      "execution_count": null,
      "outputs": []
    },
    {
      "cell_type": "markdown",
      "metadata": {
        "id": "d7zgfrQqbKom"
      },
      "source": [
        "## **Variations to try**\n"
      ]
    },
    {
      "cell_type": "markdown",
      "metadata": {
        "id": "0f9A9VDVbZAG"
      },
      "source": [
        "1.   Use more padding to include the chin region"
      ]
    },
    {
      "cell_type": "code",
      "metadata": {
        "id": "45XW4SZAzIz5",
        "colab": {
          "base_uri": "https://localhost:8080/"
        },
        "outputId": "4669fc73-6e9a-454a-8c2b-6f6ab154768f"
      },
      "source": [
        "!cd Wav2Lip && python inference.py --checkpoint_path checkpoints/wav2lip_gan.pth --face \"../sample_data/input_video.mp4\" --audio \"../sample_data/input_audio.wav\" --pads 0 20 0 0"
      ],
      "execution_count": null,
      "outputs": [
        {
          "output_type": "stream",
          "name": "stdout",
          "text": [
            "Using cuda for inference.\n",
            "Reading video frames...\n",
            "Number of frames available for inference: 269\n",
            "(80, 5386)\n",
            "Length of mel chunks: 2016\n",
            "  0% 0/16 [00:00<?, ?it/s]\n",
            "  0% 0/17 [00:00<?, ?it/s]\u001b[A\n",
            "  6% 1/17 [00:16<04:23, 16.50s/it]\u001b[A\n",
            " 12% 2/17 [00:17<01:52,  7.53s/it]\u001b[A\n",
            " 18% 3/17 [00:19<01:06,  4.72s/it]\u001b[A\n",
            " 24% 4/17 [00:20<00:43,  3.38s/it]\u001b[A\n",
            " 29% 5/17 [00:21<00:31,  2.59s/it]\u001b[A\n",
            " 35% 6/17 [00:22<00:23,  2.10s/it]\u001b[A\n",
            " 41% 7/17 [00:23<00:17,  1.78s/it]\u001b[A\n",
            " 47% 8/17 [00:25<00:14,  1.58s/it]\u001b[A\n",
            " 53% 9/17 [00:26<00:11,  1.44s/it]\u001b[A\n",
            " 59% 10/17 [00:27<00:09,  1.34s/it]\u001b[A\n",
            " 65% 11/17 [00:28<00:07,  1.27s/it]\u001b[A\n",
            " 71% 12/17 [00:29<00:06,  1.23s/it]\u001b[A\n",
            " 76% 13/17 [00:30<00:04,  1.24s/it]\u001b[A\n",
            " 82% 14/17 [00:32<00:03,  1.28s/it]\u001b[A\n",
            " 88% 15/17 [00:33<00:02,  1.31s/it]\u001b[A\n",
            " 94% 16/17 [00:34<00:01,  1.31s/it]\u001b[A\n",
            "100% 17/17 [00:47<00:00,  2.80s/it]\n",
            "Load checkpoint from: checkpoints/wav2lip_gan.pth\n",
            "Model loaded\n",
            "100% 16/16 [01:15<00:00,  4.73s/it]\n",
            "ffmpeg version 4.4.2-0ubuntu0.22.04.1 Copyright (c) 2000-2021 the FFmpeg developers\n",
            "  built with gcc 11 (Ubuntu 11.2.0-19ubuntu1)\n",
            "  configuration: --prefix=/usr --extra-version=0ubuntu0.22.04.1 --toolchain=hardened --libdir=/usr/lib/x86_64-linux-gnu --incdir=/usr/include/x86_64-linux-gnu --arch=amd64 --enable-gpl --disable-stripping --enable-gnutls --enable-ladspa --enable-libaom --enable-libass --enable-libbluray --enable-libbs2b --enable-libcaca --enable-libcdio --enable-libcodec2 --enable-libdav1d --enable-libflite --enable-libfontconfig --enable-libfreetype --enable-libfribidi --enable-libgme --enable-libgsm --enable-libjack --enable-libmp3lame --enable-libmysofa --enable-libopenjpeg --enable-libopenmpt --enable-libopus --enable-libpulse --enable-librabbitmq --enable-librubberband --enable-libshine --enable-libsnappy --enable-libsoxr --enable-libspeex --enable-libsrt --enable-libssh --enable-libtheora --enable-libtwolame --enable-libvidstab --enable-libvorbis --enable-libvpx --enable-libwebp --enable-libx265 --enable-libxml2 --enable-libxvid --enable-libzimg --enable-libzmq --enable-libzvbi --enable-lv2 --enable-omx --enable-openal --enable-opencl --enable-opengl --enable-sdl2 --enable-pocketsphinx --enable-librsvg --enable-libmfx --enable-libdc1394 --enable-libdrm --enable-libiec61883 --enable-chromaprint --enable-frei0r --enable-libx264 --enable-shared\n",
            "  libavutil      56. 70.100 / 56. 70.100\n",
            "  libavcodec     58.134.100 / 58.134.100\n",
            "  libavformat    58. 76.100 / 58. 76.100\n",
            "  libavdevice    58. 13.100 / 58. 13.100\n",
            "  libavfilter     7.110.100 /  7.110.100\n",
            "  libswscale      5.  9.100 /  5.  9.100\n",
            "  libswresample   3.  9.100 /  3.  9.100\n",
            "  libpostproc    55.  9.100 / 55.  9.100\n",
            "\u001b[0;35m[mp3 @ 0x558f213682c0] \u001b[0m\u001b[0;33mEstimating duration from bitrate, this may be inaccurate\n",
            "\u001b[0mInput #0, mp3, from '../sample_data/input_audio.wav':\n",
            "  Duration: 00:01:07.32, start: 0.000000, bitrate: 96 kb/s\n",
            "  Stream #0:0: Audio: mp3, 44100 Hz, mono, fltp, 96 kb/s\n",
            "Input #1, avi, from 'temp/result.avi':\n",
            "  Metadata:\n",
            "    software        : Lavf59.27.100\n",
            "  Duration: 00:01:07.20, start: 0.000000, bitrate: 1779 kb/s\n",
            "  Stream #1:0: Video: mpeg4 (Simple Profile) (DIVX / 0x58564944), yuv420p, 848x432 [SAR 1:1 DAR 53:27], 1774 kb/s, 30 fps, 30 tbr, 30 tbn, 30 tbc\n",
            "Stream mapping:\n",
            "  Stream #1:0 -> #0:0 (mpeg4 (native) -> h264 (libx264))\n",
            "  Stream #0:0 -> #0:1 (mp3 (mp3float) -> aac (native))\n",
            "Press [q] to stop, [?] for help\n",
            "\u001b[1;36m[libx264 @ 0x558f213ab5c0] \u001b[0m\u001b[0;33m-qscale is ignored, -crf is recommended.\n",
            "\u001b[0m\u001b[1;36m[libx264 @ 0x558f213ab5c0] \u001b[0musing SAR=1/1\n",
            "\u001b[1;36m[libx264 @ 0x558f213ab5c0] \u001b[0musing cpu capabilities: MMX2 SSE2Fast SSSE3 SSE4.2 AVX FMA3 BMI2 AVX2\n",
            "\u001b[1;36m[libx264 @ 0x558f213ab5c0] \u001b[0mprofile High, level 3.1, 4:2:0, 8-bit\n",
            "\u001b[1;36m[libx264 @ 0x558f213ab5c0] \u001b[0m264 - core 163 r3060 5db6aa6 - H.264/MPEG-4 AVC codec - Copyleft 2003-2021 - http://www.videolan.org/x264.html - options: cabac=1 ref=3 deblock=1:0:0 analyse=0x3:0x113 me=hex subme=7 psy=1 psy_rd=1.00:0.00 mixed_ref=1 me_range=16 chroma_me=1 trellis=1 8x8dct=1 cqm=0 deadzone=21,11 fast_pskip=1 chroma_qp_offset=-2 threads=3 lookahead_threads=1 sliced_threads=0 nr=0 decimate=1 interlaced=0 bluray_compat=0 constrained_intra=0 bframes=3 b_pyramid=2 b_adapt=1 b_bias=0 direct=1 weightb=1 open_gop=0 weightp=2 keyint=250 keyint_min=25 scenecut=40 intra_refresh=0 rc_lookahead=40 rc=crf mbtree=1 crf=23.0 qcomp=0.60 qpmin=0 qpmax=69 qpstep=4 ip_ratio=1.40 aq=1:1.00\n",
            "Output #0, mp4, to 'results/result_voice.mp4':\n",
            "  Metadata:\n",
            "    encoder         : Lavf58.76.100\n",
            "  Stream #0:0: Video: h264 (avc1 / 0x31637661), yuv420p(progressive), 848x432 [SAR 1:1 DAR 53:27], q=2-31, 30 fps, 15360 tbn\n",
            "    Metadata:\n",
            "      encoder         : Lavc58.134.100 libx264\n",
            "    Side data:\n",
            "      cpb: bitrate max/min/avg: 0/0/0 buffer size: 0 vbv_delay: N/A\n",
            "  Stream #0:1: Audio: aac (LC) (mp4a / 0x6134706D), 44100 Hz, mono, fltp, 69 kb/s\n",
            "    Metadata:\n",
            "      encoder         : Lavc58.134.100 aac\n",
            "frame= 2016 fps= 60 q=-1.0 Lsize=    6175kB time=00:01:07.31 bitrate= 751.5kbits/s speed=2.01x    \n",
            "video:5538kB audio:571kB subtitle:0kB other streams:0kB global headers:0kB muxing overhead: 1.076277%\n",
            "\u001b[1;36m[libx264 @ 0x558f213ab5c0] \u001b[0mframe I:11    Avg QP:17.75  size: 13732\n",
            "\u001b[1;36m[libx264 @ 0x558f213ab5c0] \u001b[0mframe P:1371  Avg QP:21.77  size:  3453\n",
            "\u001b[1;36m[libx264 @ 0x558f213ab5c0] \u001b[0mframe B:634   Avg QP:23.92  size:  1238\n",
            "\u001b[1;36m[libx264 @ 0x558f213ab5c0] \u001b[0mconsecutive B-frames: 51.5% 14.8% 14.9% 18.8%\n",
            "\u001b[1;36m[libx264 @ 0x558f213ab5c0] \u001b[0mmb I  I16..4: 31.6% 57.5% 10.9%\n",
            "\u001b[1;36m[libx264 @ 0x558f213ab5c0] \u001b[0mmb P  I16..4:  1.9%  6.9%  0.4%  P16..4: 22.7%  7.8%  3.8%  0.0%  0.0%    skip:56.6%\n",
            "\u001b[1;36m[libx264 @ 0x558f213ab5c0] \u001b[0mmb B  I16..4:  0.4%  1.7%  0.1%  B16..8: 28.6%  3.4%  0.5%  direct: 1.1%  skip:64.4%  L0:52.6% L1:41.4% BI: 6.0%\n",
            "\u001b[1;36m[libx264 @ 0x558f213ab5c0] \u001b[0m8x8 transform intra:74.0% inter:68.6%\n",
            "\u001b[1;36m[libx264 @ 0x558f213ab5c0] \u001b[0mcoded y,uvDC,uvAC intra: 26.8% 32.3% 4.7% inter: 8.1% 6.0% 0.0%\n",
            "\u001b[1;36m[libx264 @ 0x558f213ab5c0] \u001b[0mi16 v,h,dc,p: 46% 27% 20%  7%\n",
            "\u001b[1;36m[libx264 @ 0x558f213ab5c0] \u001b[0mi8 v,h,dc,ddl,ddr,vr,hd,vl,hu: 26% 16% 50%  2%  1%  1%  1%  1%  1%\n",
            "\u001b[1;36m[libx264 @ 0x558f213ab5c0] \u001b[0mi4 v,h,dc,ddl,ddr,vr,hd,vl,hu: 23% 36% 14%  3%  6%  5%  7%  4%  3%\n",
            "\u001b[1;36m[libx264 @ 0x558f213ab5c0] \u001b[0mi8c dc,h,v,p: 56% 20% 22%  2%\n",
            "\u001b[1;36m[libx264 @ 0x558f213ab5c0] \u001b[0mWeighted P-Frames: Y:0.9% UV:0.3%\n",
            "\u001b[1;36m[libx264 @ 0x558f213ab5c0] \u001b[0mref P L0: 74.8% 11.5% 10.0%  3.7%  0.0%\n",
            "\u001b[1;36m[libx264 @ 0x558f213ab5c0] \u001b[0mref B L0: 85.7% 11.9%  2.5%\n",
            "\u001b[1;36m[libx264 @ 0x558f213ab5c0] \u001b[0mref B L1: 98.1%  1.9%\n",
            "\u001b[1;36m[libx264 @ 0x558f213ab5c0] \u001b[0mkb/s:675.06\n",
            "\u001b[1;36m[aac @ 0x558f213acf40] \u001b[0mQavg: 158.533\n"
          ]
        }
      ]
    },
    {
      "cell_type": "markdown",
      "metadata": {
        "id": "uo-WnsxfbwTG"
      },
      "source": [
        "2.   Use resize_factor to reduce the video resolution, as there is a change you might get better results for lower resolution videos. Why? Because the model was trained on low resolution faces."
      ]
    },
    {
      "cell_type": "code",
      "metadata": {
        "id": "xw0xFtZ2bsx8",
        "colab": {
          "base_uri": "https://localhost:8080/"
        },
        "outputId": "b6177133-2c6c-4bbd-88ca-2efbecfdd032"
      },
      "source": [
        "!cd Wav2Lip && python inference.py --checkpoint_path checkpoints/wav2lip_gan.pth --face \"../sample_data/input_video.mp4\" --audio \"../sample_data/input_audio.wav\" --resize_factor 2"
      ],
      "execution_count": null,
      "outputs": [
        {
          "output_type": "stream",
          "name": "stdout",
          "text": [
            "Using cuda for inference.\n",
            "Reading video frames...\n",
            "Number of frames available for inference: 154\n",
            "(80, 5386)\n",
            "Length of mel chunks: 2016\n",
            "  0% 0/16 [00:00<?, ?it/s]\n",
            "  0% 0/10 [00:00<?, ?it/s]\u001b[A\n",
            " 10% 1/10 [00:06<01:01,  6.87s/it]\u001b[A\n",
            " 20% 2/10 [00:07<00:24,  3.07s/it]\u001b[A\n",
            " 30% 3/10 [00:07<00:12,  1.85s/it]\u001b[A\n",
            " 40% 4/10 [00:08<00:07,  1.27s/it]\u001b[A\n",
            " 50% 5/10 [00:08<00:04,  1.06it/s]\u001b[A\n",
            " 60% 6/10 [00:08<00:02,  1.34it/s]\u001b[A\n",
            " 70% 7/10 [00:09<00:01,  1.62it/s]\u001b[A\n",
            " 80% 8/10 [00:09<00:01,  1.84it/s]\u001b[A\n",
            " 90% 9/10 [00:09<00:00,  2.06it/s]\u001b[A\n",
            "100% 10/10 [00:13<00:00,  1.34s/it]\n",
            "Load checkpoint from: checkpoints/wav2lip_gan.pth\n",
            "Model loaded\n",
            "100% 16/16 [00:37<00:00,  2.37s/it]\n",
            "ffmpeg version 4.4.2-0ubuntu0.22.04.1 Copyright (c) 2000-2021 the FFmpeg developers\n",
            "  built with gcc 11 (Ubuntu 11.2.0-19ubuntu1)\n",
            "  configuration: --prefix=/usr --extra-version=0ubuntu0.22.04.1 --toolchain=hardened --libdir=/usr/lib/x86_64-linux-gnu --incdir=/usr/include/x86_64-linux-gnu --arch=amd64 --enable-gpl --disable-stripping --enable-gnutls --enable-ladspa --enable-libaom --enable-libass --enable-libbluray --enable-libbs2b --enable-libcaca --enable-libcdio --enable-libcodec2 --enable-libdav1d --enable-libflite --enable-libfontconfig --enable-libfreetype --enable-libfribidi --enable-libgme --enable-libgsm --enable-libjack --enable-libmp3lame --enable-libmysofa --enable-libopenjpeg --enable-libopenmpt --enable-libopus --enable-libpulse --enable-librabbitmq --enable-librubberband --enable-libshine --enable-libsnappy --enable-libsoxr --enable-libspeex --enable-libsrt --enable-libssh --enable-libtheora --enable-libtwolame --enable-libvidstab --enable-libvorbis --enable-libvpx --enable-libwebp --enable-libx265 --enable-libxml2 --enable-libxvid --enable-libzimg --enable-libzmq --enable-libzvbi --enable-lv2 --enable-omx --enable-openal --enable-opencl --enable-opengl --enable-sdl2 --enable-pocketsphinx --enable-librsvg --enable-libmfx --enable-libdc1394 --enable-libdrm --enable-libiec61883 --enable-chromaprint --enable-frei0r --enable-libx264 --enable-shared\n",
            "  libavutil      56. 70.100 / 56. 70.100\n",
            "  libavcodec     58.134.100 / 58.134.100\n",
            "  libavformat    58. 76.100 / 58. 76.100\n",
            "  libavdevice    58. 13.100 / 58. 13.100\n",
            "  libavfilter     7.110.100 /  7.110.100\n",
            "  libswscale      5.  9.100 /  5.  9.100\n",
            "  libswresample   3.  9.100 /  3.  9.100\n",
            "  libpostproc    55.  9.100 / 55.  9.100\n",
            "\u001b[0;35m[mp3 @ 0x5c71f419c2c0] \u001b[0m\u001b[0;33mEstimating duration from bitrate, this may be inaccurate\n",
            "\u001b[0mInput #0, mp3, from '../sample_data/input_audio.wav':\n",
            "  Duration: 00:01:07.32, start: 0.000000, bitrate: 96 kb/s\n",
            "  Stream #0:0: Audio: mp3, 44100 Hz, mono, fltp, 96 kb/s\n",
            "Input #1, avi, from 'temp/result.avi':\n",
            "  Metadata:\n",
            "    software        : Lavf59.27.100\n",
            "  Duration: 00:01:07.20, start: 0.000000, bitrate: 671 kb/s\n",
            "  Stream #1:0: Video: mpeg4 (Simple Profile) (DIVX / 0x58564944), yuv420p, 424x216 [SAR 1:1 DAR 53:27], 665 kb/s, 30 fps, 30 tbr, 30 tbn, 30 tbc\n",
            "Stream mapping:\n",
            "  Stream #1:0 -> #0:0 (mpeg4 (native) -> h264 (libx264))\n",
            "  Stream #0:0 -> #0:1 (mp3 (mp3float) -> aac (native))\n",
            "Press [q] to stop, [?] for help\n",
            "\u001b[1;36m[libx264 @ 0x5c71f41e9500] \u001b[0m\u001b[0;33m-qscale is ignored, -crf is recommended.\n",
            "\u001b[0m\u001b[1;36m[libx264 @ 0x5c71f41e9500] \u001b[0musing SAR=1/1\n",
            "\u001b[1;36m[libx264 @ 0x5c71f41e9500] \u001b[0musing cpu capabilities: MMX2 SSE2Fast SSSE3 SSE4.2 AVX FMA3 BMI2 AVX2\n",
            "\u001b[1;36m[libx264 @ 0x5c71f41e9500] \u001b[0mprofile High, level 1.3, 4:2:0, 8-bit\n",
            "\u001b[1;36m[libx264 @ 0x5c71f41e9500] \u001b[0m264 - core 163 r3060 5db6aa6 - H.264/MPEG-4 AVC codec - Copyleft 2003-2021 - http://www.videolan.org/x264.html - options: cabac=1 ref=3 deblock=1:0:0 analyse=0x3:0x113 me=hex subme=7 psy=1 psy_rd=1.00:0.00 mixed_ref=1 me_range=16 chroma_me=1 trellis=1 8x8dct=1 cqm=0 deadzone=21,11 fast_pskip=1 chroma_qp_offset=-2 threads=3 lookahead_threads=1 sliced_threads=0 nr=0 decimate=1 interlaced=0 bluray_compat=0 constrained_intra=0 bframes=3 b_pyramid=2 b_adapt=1 b_bias=0 direct=1 weightb=1 open_gop=0 weightp=2 keyint=250 keyint_min=25 scenecut=40 intra_refresh=0 rc_lookahead=40 rc=crf mbtree=1 crf=23.0 qcomp=0.60 qpmin=0 qpmax=69 qpstep=4 ip_ratio=1.40 aq=1:1.00\n",
            "Output #0, mp4, to 'results/result_voice.mp4':\n",
            "  Metadata:\n",
            "    encoder         : Lavf58.76.100\n",
            "  Stream #0:0: Video: h264 (avc1 / 0x31637661), yuv420p(progressive), 424x216 [SAR 1:1 DAR 53:27], q=2-31, 30 fps, 15360 tbn\n",
            "    Metadata:\n",
            "      encoder         : Lavc58.134.100 libx264\n",
            "    Side data:\n",
            "      cpb: bitrate max/min/avg: 0/0/0 buffer size: 0 vbv_delay: N/A\n",
            "  Stream #0:1: Audio: aac (LC) (mp4a / 0x6134706D), 44100 Hz, mono, fltp, 69 kb/s\n",
            "    Metadata:\n",
            "      encoder         : Lavc58.134.100 aac\n",
            "frame= 2016 fps=177 q=-1.0 Lsize=    2465kB time=00:01:07.31 bitrate= 300.0kbits/s speed= 5.9x    \n",
            "video:1826kB audio:571kB subtitle:0kB other streams:0kB global headers:0kB muxing overhead: 2.846996%\n",
            "\u001b[1;36m[libx264 @ 0x5c71f41e9500] \u001b[0mframe I:14    Avg QP:18.25  size:  6289\n",
            "\u001b[1;36m[libx264 @ 0x5c71f41e9500] \u001b[0mframe P:1148  Avg QP:22.74  size:  1285\n",
            "\u001b[1;36m[libx264 @ 0x5c71f41e9500] \u001b[0mframe B:854   Avg QP:24.33  size:   358\n",
            "\u001b[1;36m[libx264 @ 0x5c71f41e9500] \u001b[0mconsecutive B-frames: 35.9% 18.2% 14.0% 31.9%\n",
            "\u001b[1;36m[libx264 @ 0x5c71f41e9500] \u001b[0mmb I  I16..4: 30.7% 56.6% 12.8%\n",
            "\u001b[1;36m[libx264 @ 0x5c71f41e9500] \u001b[0mmb P  I16..4:  1.6%  4.8%  0.4%  P16..4: 22.9% 10.6%  6.6%  0.0%  0.0%    skip:53.2%\n",
            "\u001b[1;36m[libx264 @ 0x5c71f41e9500] \u001b[0mmb B  I16..4:  0.3%  0.9%  0.0%  B16..8: 26.8%  3.7%  0.8%  direct: 0.9%  skip:66.6%  L0:46.1% L1:43.7% BI:10.2%\n",
            "\u001b[1;36m[libx264 @ 0x5c71f41e9500] \u001b[0m8x8 transform intra:69.6% inter:59.7%\n",
            "\u001b[1;36m[libx264 @ 0x5c71f41e9500] \u001b[0mcoded y,uvDC,uvAC intra: 35.2% 36.3% 7.8% inter: 8.7% 6.4% 0.3%\n",
            "\u001b[1;36m[libx264 @ 0x5c71f41e9500] \u001b[0mi16 v,h,dc,p: 48% 27% 17%  9%\n",
            "\u001b[1;36m[libx264 @ 0x5c71f41e9500] \u001b[0mi8 v,h,dc,ddl,ddr,vr,hd,vl,hu: 29% 14% 48%  2%  1%  1%  1%  1%  1%\n",
            "\u001b[1;36m[libx264 @ 0x5c71f41e9500] \u001b[0mi4 v,h,dc,ddl,ddr,vr,hd,vl,hu: 22% 43% 10%  3%  5%  4%  7%  3%  4%\n",
            "\u001b[1;36m[libx264 @ 0x5c71f41e9500] \u001b[0mi8c dc,h,v,p: 55% 19% 24%  2%\n",
            "\u001b[1;36m[libx264 @ 0x5c71f41e9500] \u001b[0mWeighted P-Frames: Y:2.1% UV:0.0%\n",
            "\u001b[1;36m[libx264 @ 0x5c71f41e9500] \u001b[0mref P L0: 74.0% 11.4% 10.5%  4.0%  0.1%\n",
            "\u001b[1;36m[libx264 @ 0x5c71f41e9500] \u001b[0mref B L0: 86.6% 10.9%  2.4%\n",
            "\u001b[1;36m[libx264 @ 0x5c71f41e9500] \u001b[0mref B L1: 97.9%  2.1%\n",
            "\u001b[1;36m[libx264 @ 0x5c71f41e9500] \u001b[0mkb/s:222.56\n",
            "\u001b[1;36m[aac @ 0x5c71f41eafc0] \u001b[0mQavg: 158.533\n"
          ]
        }
      ]
    }
  ]
}